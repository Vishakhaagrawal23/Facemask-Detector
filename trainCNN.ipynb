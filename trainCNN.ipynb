{
  "nbformat": 4,
  "nbformat_minor": 0,
  "metadata": {
    "colab": {
      "name": "trainCNN.ipynb",
      "provenance": [],
      "collapsed_sections": [],
      "toc_visible": true,
      "authorship_tag": "ABX9TyPZ+5byf0I7RIG1k/G+/Zeg",
      "include_colab_link": true
    },
    "kernelspec": {
      "name": "python3",
      "display_name": "Python 3"
    },
    "accelerator": "GPU"
  },
  "cells": [
    {
      "cell_type": "markdown",
      "metadata": {
        "id": "view-in-github",
        "colab_type": "text"
      },
      "source": [
        "<a href=\"https://colab.research.google.com/github/Vishakhaagrawal23/Facemask-Detector/blob/main/trainCNN.ipynb\" target=\"_parent\"><img src=\"https://colab.research.google.com/assets/colab-badge.svg\" alt=\"Open In Colab\"/></a>"
      ]
    },
    {
      "cell_type": "code",
      "metadata": {
        "id": "hdxyouQyxh_F"
      },
      "source": [
        "#Importing Keras libraries and packages\r\n",
        "from keras.models import Sequential\r\n",
        "from keras.layers import Convolution2D, MaxPooling2D, Flatten, Dropout, Dense\r\n",
        "from keras.preprocessing.image import ImageDataGenerator"
      ],
      "execution_count": 1,
      "outputs": []
    },
    {
      "cell_type": "markdown",
      "metadata": {
        "id": "-6mFBZ62z9LV"
      },
      "source": [
        "## **Addding the dataset**"
      ]
    },
    {
      "cell_type": "code",
      "metadata": {
        "id": "Vi8hcl3UQA50"
      },
      "source": [
        "import os\r\n",
        "os.environ['KAGGLE_USERNAME']='vishakhaagrawal2303'\r\n",
        "os.environ['KAGGLE_KEY']='9a618cdd4c520dc959e5962149f10ee5'"
      ],
      "execution_count": 2,
      "outputs": []
    },
    {
      "cell_type": "code",
      "metadata": {
        "colab": {
          "base_uri": "https://localhost:8080/"
        },
        "id": "o6KVzXIlSMT1",
        "outputId": "2a5e8e67-8846-45b3-dbba-253e4e56be68"
      },
      "source": [
        "! kaggle datasets download -d prithwirajmitra/covid-face-mask-detection-dataset"
      ],
      "execution_count": 3,
      "outputs": [
        {
          "output_type": "stream",
          "text": [
            "Downloading covid-face-mask-detection-dataset.zip to /content\n",
            " 98% 203M/207M [00:02<00:00, 94.6MB/s]\n",
            "100% 207M/207M [00:02<00:00, 85.8MB/s]\n"
          ],
          "name": "stdout"
        }
      ]
    },
    {
      "cell_type": "code",
      "metadata": {
        "id": "80ih0aspTzPo"
      },
      "source": [
        "! unzip covid-face-mask-detection-dataset.zip"
      ],
      "execution_count": null,
      "outputs": []
    },
    {
      "cell_type": "markdown",
      "metadata": {
        "id": "mU-Spo1n0JsW"
      },
      "source": [
        "## **Building the CNN**"
      ]
    },
    {
      "cell_type": "code",
      "metadata": {
        "id": "3owcK_7X_Uah"
      },
      "source": [
        "#Initialising the CNN\r\n",
        "classifier = Sequential()"
      ],
      "execution_count": null,
      "outputs": []
    },
    {
      "cell_type": "code",
      "metadata": {
        "id": "SeHLoce4JQOj"
      },
      "source": [
        "#S1 Convolution\r\n",
        "classifier.add(Convolution2D(32, 3, 3, input_shape = (128, 128, 3), activation = 'relu'))\r\n"
      ],
      "execution_count": null,
      "outputs": []
    },
    {
      "cell_type": "code",
      "metadata": {
        "id": "fhXYkMewKm24"
      },
      "source": [
        "#S2 Pooling\r\n",
        "classifier.add(MaxPooling2D(pool_size = (2, 2)))"
      ],
      "execution_count": null,
      "outputs": []
    },
    {
      "cell_type": "code",
      "metadata": {
        "id": "CuuVtZ340sr9"
      },
      "source": [
        "#Dropout to avoid overfitting\r\n",
        "classifier.add(Dropout(0.5))"
      ],
      "execution_count": null,
      "outputs": []
    },
    {
      "cell_type": "code",
      "metadata": {
        "id": "sK_rOKX61Y40"
      },
      "source": [
        "# Adding 2nd convolution layer\r\n",
        "classifier.add(Convolution2D(64, 3, 3, activation = 'relu'))\r\n",
        "classifier.add(MaxPooling2D(pool_size = (2, 2)))\r\n",
        "classifier.add(Dropout(0.5))\r\n"
      ],
      "execution_count": null,
      "outputs": []
    },
    {
      "cell_type": "code",
      "metadata": {
        "id": "PR_jc_coL5VL"
      },
      "source": [
        "#S3 Flattening\r\n",
        "classifier.add(Flatten())"
      ],
      "execution_count": null,
      "outputs": []
    },
    {
      "cell_type": "code",
      "metadata": {
        "id": "yPI-I51GNE_i"
      },
      "source": [
        "#S4 Full Connection\r\n",
        "classifier.add(Dense(256, activation = 'relu'))\r\n",
        "classifier.add(Dense(1, activation = 'sigmoid'))"
      ],
      "execution_count": null,
      "outputs": []
    },
    {
      "cell_type": "code",
      "metadata": {
        "id": "JtdUllq578qd"
      },
      "source": [
        "#S5 Compiling the cnn\r\n",
        "classifier.compile(optimizer = 'adam', loss = 'binary_crossentropy', metrics = ['accuracy'])"
      ],
      "execution_count": null,
      "outputs": []
    },
    {
      "cell_type": "markdown",
      "metadata": {
        "id": "70BeCe7TRmIv"
      },
      "source": [
        "## **Image Preprocessing (Image Augmentation)**"
      ]
    },
    {
      "cell_type": "code",
      "metadata": {
        "colab": {
          "base_uri": "https://localhost:8080/"
        },
        "id": "JsxRqJwfkrUz",
        "outputId": "d2ba0e80-2a71-459f-c39b-ba3070c70f66"
      },
      "source": [
        "train_datagen = ImageDataGenerator(\r\n",
        "        rescale=1./255,\r\n",
        "        shear_range=0.2,\r\n",
        "        rotation_range=40,\r\n",
        "        zoom_range=0.2,\r\n",
        "        horizontal_flip=True)\r\n",
        "\r\n",
        "test_datagen = ImageDataGenerator(rescale=1./255)\r\n",
        "\r\n",
        "validation_datagen = ImageDataGenerator(rescale=1./255)\r\n",
        "\r\n",
        "training_set = train_datagen.flow_from_directory(\r\n",
        "                                                  'New Masks Dataset/Train',\r\n",
        "                                                   target_size=(128, 128),\r\n",
        "                                                   batch_size=32,\r\n",
        "                                                   class_mode='binary')\r\n",
        "\r\n",
        "test_set = test_datagen.flow_from_directory(\r\n",
        "                                            'New Masks Dataset/Test',\r\n",
        "                                             target_size=(128, 128),\r\n",
        "                                             batch_size=32,\r\n",
        "                                             class_mode='binary')\r\n",
        "\r\n",
        "validation_set = validation_datagen.flow_from_directory(\r\n",
        "                                                       'New Masks Dataset/Validation',\r\n",
        "                                                        target_size=(128, 128),\r\n",
        "                                                        batch_size=32,\r\n",
        "                                                        class_mode='binary')"
      ],
      "execution_count": null,
      "outputs": [
        {
          "output_type": "stream",
          "text": [
            "Found 600 images belonging to 2 classes.\n",
            "Found 100 images belonging to 2 classes.\n",
            "Found 306 images belonging to 2 classes.\n"
          ],
          "name": "stdout"
        }
      ]
    },
    {
      "cell_type": "code",
      "metadata": {
        "id": "YD0MBE0Nk55R"
      },
      "source": [
        ""
      ],
      "execution_count": null,
      "outputs": []
    },
    {
      "cell_type": "markdown",
      "metadata": {
        "id": "bOfsRPWCdhqC"
      },
      "source": [
        "## **Fitting the CNN to the dataset**"
      ]
    },
    {
      "cell_type": "code",
      "metadata": {
        "id": "G3OjV2vSdsUe"
      },
      "source": [
        "history = classifier.fit(\r\n",
        "                        training_set,\r\n",
        "                        steps_per_epoch=600,\r\n",
        "                        epochs=50,\r\n",
        "                        validation_data=validation_set,\r\n",
        "                        validation_steps=306)"
      ],
      "execution_count": null,
      "outputs": []
    },
    {
      "cell_type": "code",
      "metadata": {
        "id": "9OFC1FYRWle3"
      },
      "source": [
        ""
      ],
      "execution_count": null,
      "outputs": []
    }
  ]
}