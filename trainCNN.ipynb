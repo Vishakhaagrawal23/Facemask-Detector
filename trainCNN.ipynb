{
  "nbformat": 4,
  "nbformat_minor": 0,
  "metadata": {
    "colab": {
      "name": "trainCNN.ipynb",
      "provenance": [],
      "collapsed_sections": [],
      "toc_visible": true,
      "authorship_tag": "ABX9TyPlTwVCRJNuontA03bcameG",
      "include_colab_link": true
    },
    "kernelspec": {
      "name": "python3",
      "display_name": "Python 3"
    },
    "accelerator": "GPU"
  },
  "cells": [
    {
      "cell_type": "markdown",
      "metadata": {
        "id": "view-in-github",
        "colab_type": "text"
      },
      "source": [
        "<a href=\"https://colab.research.google.com/github/Vishakhaagrawal23/Facemask-Detector/blob/main/trainCNN.ipynb\" target=\"_parent\"><img src=\"https://colab.research.google.com/assets/colab-badge.svg\" alt=\"Open In Colab\"/></a>"
      ]
    },
    {
      "cell_type": "code",
      "metadata": {
        "id": "hdxyouQyxh_F"
      },
      "source": [
        "#Importing Keras libraries and packages\r\n",
        "from keras.models import Sequential\r\n",
        "from keras.layers import Convolution2D, MaxPooling2D, Flatten, Dropout, Dense\r\n",
        "from keras.preprocessing.image import ImageDataGenerator"
      ],
      "execution_count": 1,
      "outputs": []
    },
    {
      "cell_type": "markdown",
      "metadata": {
        "id": "-6mFBZ62z9LV"
      },
      "source": [
        "## **Addding the dataset**"
      ]
    },
    {
      "cell_type": "code",
      "metadata": {
        "id": "Vi8hcl3UQA50"
      },
      "source": [
        "import os\r\n",
        "os.environ['KAGGLE_USERNAME']='vishakhaagrawal2303'\r\n",
        "os.environ['KAGGLE_KEY']='9a618cdd4c520dc959e5962149f10ee5'"
      ],
      "execution_count": 2,
      "outputs": []
    },
    {
      "cell_type": "code",
      "metadata": {
        "colab": {
          "base_uri": "https://localhost:8080/"
        },
        "id": "o6KVzXIlSMT1",
        "outputId": "2005d39b-6075-4b06-c32c-353adcbd037c"
      },
      "source": [
        "! kaggle datasets download -d prithwirajmitra/covid-face-mask-detection-dataset"
      ],
      "execution_count": 3,
      "outputs": [
        {
          "output_type": "stream",
          "text": [
            "Downloading covid-face-mask-detection-dataset.zip to /content\n",
            " 93% 193M/207M [00:02<00:00, 64.4MB/s]\n",
            "100% 207M/207M [00:02<00:00, 79.9MB/s]\n"
          ],
          "name": "stdout"
        }
      ]
    },
    {
      "cell_type": "code",
      "metadata": {
        "id": "80ih0aspTzPo"
      },
      "source": [
        "! unzip covid-face-mask-detection-dataset.zip"
      ],
      "execution_count": null,
      "outputs": []
    },
    {
      "cell_type": "markdown",
      "metadata": {
        "id": "mU-Spo1n0JsW"
      },
      "source": [
        "## **Building the CNN**"
      ]
    },
    {
      "cell_type": "code",
      "metadata": {
        "id": "3owcK_7X_Uah"
      },
      "source": [
        "#Initialising the CNN\r\n",
        "classifier = Sequential()"
      ],
      "execution_count": 5,
      "outputs": []
    },
    {
      "cell_type": "code",
      "metadata": {
        "id": "SeHLoce4JQOj"
      },
      "source": [
        "#S1 Convolution\r\n",
        "classifier.add(Convolution2D(32, 3, 3, input_shape = (128, 128, 3), activation = 'relu'))\r\n"
      ],
      "execution_count": 6,
      "outputs": []
    },
    {
      "cell_type": "code",
      "metadata": {
        "id": "fhXYkMewKm24"
      },
      "source": [
        "#S2 Pooling\r\n",
        "classifier.add(MaxPooling2D(pool_size = (2, 2)))"
      ],
      "execution_count": 7,
      "outputs": []
    },
    {
      "cell_type": "code",
      "metadata": {
        "id": "CuuVtZ340sr9"
      },
      "source": [
        "#Dropout to avoid overfitting\r\n",
        "classifier.add(Dropout(0.5))"
      ],
      "execution_count": 8,
      "outputs": []
    },
    {
      "cell_type": "code",
      "metadata": {
        "id": "sK_rOKX61Y40"
      },
      "source": [
        "# Adding 2nd convolution layer\r\n",
        "classifier.add(Convolution2D(64, 3, 3, activation = 'relu'))\r\n",
        "classifier.add(MaxPooling2D(pool_size = (2, 2)))\r\n",
        "classifier.add(Dropout(0.5))\r\n"
      ],
      "execution_count": 9,
      "outputs": []
    },
    {
      "cell_type": "code",
      "metadata": {
        "id": "PR_jc_coL5VL"
      },
      "source": [
        "#S3 Flattening\r\n",
        "classifier.add(Flatten())"
      ],
      "execution_count": 10,
      "outputs": []
    },
    {
      "cell_type": "code",
      "metadata": {
        "id": "yPI-I51GNE_i"
      },
      "source": [
        "#S4 Full Connection\r\n",
        "classifier.add(Dense(256, activation = 'relu'))\r\n",
        "classifier.add(Dense(1, activation = 'sigmoid'))"
      ],
      "execution_count": 11,
      "outputs": []
    },
    {
      "cell_type": "code",
      "metadata": {
        "id": "JtdUllq578qd"
      },
      "source": [
        "#S5 Compiling the cnn\r\n",
        "classifier.compile(optimizer = 'adam', loss = 'binary_crossentropy', metrics = ['accuracy'])"
      ],
      "execution_count": 12,
      "outputs": []
    },
    {
      "cell_type": "markdown",
      "metadata": {
        "id": "70BeCe7TRmIv"
      },
      "source": [
        "## **Image Preprocessing (Image Augmentation)**"
      ]
    },
    {
      "cell_type": "markdown",
      "metadata": {
        "id": "bOfsRPWCdhqC"
      },
      "source": [
        "## **Fitting the CNN to the dataset**"
      ]
    },
    {
      "cell_type": "code",
      "metadata": {
        "id": "G3OjV2vSdsUe"
      },
      "source": [
        ""
      ],
      "execution_count": null,
      "outputs": []
    }
  ]
}