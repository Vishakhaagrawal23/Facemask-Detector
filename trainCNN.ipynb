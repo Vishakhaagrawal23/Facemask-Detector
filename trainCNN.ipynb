{
  "nbformat": 4,
  "nbformat_minor": 0,
  "metadata": {
    "colab": {
      "name": "trainCNN.ipynb",
      "provenance": [],
      "collapsed_sections": [],
      "toc_visible": true,
      "authorship_tag": "ABX9TyM2hpaCmAyRXltTEAQrEQY1",
      "include_colab_link": true
    },
    "kernelspec": {
      "name": "python3",
      "display_name": "Python 3"
    },
    "accelerator": "GPU"
  },
  "cells": [
    {
      "cell_type": "markdown",
      "metadata": {
        "id": "view-in-github",
        "colab_type": "text"
      },
      "source": [
        "<a href=\"https://colab.research.google.com/github/Vishakhaagrawal23/Facemask-Detector/blob/main/trainCNN.ipynb\" target=\"_parent\"><img src=\"https://colab.research.google.com/assets/colab-badge.svg\" alt=\"Open In Colab\"/></a>"
      ]
    },
    {
      "cell_type": "code",
      "metadata": {
        "id": "hdxyouQyxh_F"
      },
      "source": [
        "#Importing Keras libraries and packages\r\n",
        "from keras.models import Sequential\r\n",
        "from keras.layers import Convolution2D, MaxPooling2D, Flatten, Dropout, Dense\r\n",
        "from keras.preprocessing.image import ImageDataGenerator\r\n",
        "import matplotlib.pyplot as plt"
      ],
      "execution_count": 20,
      "outputs": []
    },
    {
      "cell_type": "markdown",
      "metadata": {
        "id": "-6mFBZ62z9LV"
      },
      "source": [
        "## **Addding the dataset**"
      ]
    },
    {
      "cell_type": "code",
      "metadata": {
        "id": "Vi8hcl3UQA50"
      },
      "source": [
        "import os\r\n",
        "os.environ['KAGGLE_USERNAME']='vishakhaagrawal2303'\r\n",
        "os.environ['KAGGLE_KEY']='9a618cdd4c520dc959e5962149f10ee5'"
      ],
      "execution_count": 6,
      "outputs": []
    },
    {
      "cell_type": "code",
      "metadata": {
        "colab": {
          "base_uri": "https://localhost:8080/"
        },
        "id": "o6KVzXIlSMT1",
        "outputId": "a55f83d0-8cb0-42e2-fc16-462c6a6569c3"
      },
      "source": [
        "! kaggle datasets download -d prithwirajmitra/covid-face-mask-detection-dataset"
      ],
      "execution_count": 7,
      "outputs": [
        {
          "output_type": "stream",
          "text": [
            "Downloading covid-face-mask-detection-dataset.zip to /content\n",
            " 98% 203M/207M [00:02<00:00, 94.0MB/s]\n",
            "100% 207M/207M [00:02<00:00, 97.8MB/s]\n"
          ],
          "name": "stdout"
        }
      ]
    },
    {
      "cell_type": "code",
      "metadata": {
        "id": "80ih0aspTzPo"
      },
      "source": [
        "! unzip covid-face-mask-detection-dataset.zip"
      ],
      "execution_count": null,
      "outputs": []
    },
    {
      "cell_type": "markdown",
      "metadata": {
        "id": "mU-Spo1n0JsW"
      },
      "source": [
        "## **Building the CNN**"
      ]
    },
    {
      "cell_type": "code",
      "metadata": {
        "id": "3owcK_7X_Uah"
      },
      "source": [
        "#Initialising the CNN\r\n",
        "classifier = Sequential()"
      ],
      "execution_count": 9,
      "outputs": []
    },
    {
      "cell_type": "code",
      "metadata": {
        "id": "SeHLoce4JQOj"
      },
      "source": [
        "#S1 Convolution\r\n",
        "classifier.add(Convolution2D(32, 3, 3, input_shape = (128, 128, 3), activation = 'relu'))\r\n"
      ],
      "execution_count": 10,
      "outputs": []
    },
    {
      "cell_type": "code",
      "metadata": {
        "id": "fhXYkMewKm24"
      },
      "source": [
        "#S2 Pooling\r\n",
        "classifier.add(MaxPooling2D(pool_size = (2, 2)))"
      ],
      "execution_count": 11,
      "outputs": []
    },
    {
      "cell_type": "code",
      "metadata": {
        "id": "CuuVtZ340sr9"
      },
      "source": [
        "#Dropout to avoid overfitting\r\n",
        "classifier.add(Dropout(0.5))"
      ],
      "execution_count": 12,
      "outputs": []
    },
    {
      "cell_type": "code",
      "metadata": {
        "id": "sK_rOKX61Y40"
      },
      "source": [
        "# Adding 2nd convolution layer\r\n",
        "classifier.add(Convolution2D(64, 3, 3, activation = 'relu'))\r\n",
        "classifier.add(MaxPooling2D(pool_size = (2, 2)))\r\n",
        "classifier.add(Dropout(0.5))\r\n"
      ],
      "execution_count": 13,
      "outputs": []
    },
    {
      "cell_type": "code",
      "metadata": {
        "id": "PR_jc_coL5VL"
      },
      "source": [
        "#S3 Flattening\r\n",
        "classifier.add(Flatten())"
      ],
      "execution_count": 14,
      "outputs": []
    },
    {
      "cell_type": "code",
      "metadata": {
        "id": "yPI-I51GNE_i"
      },
      "source": [
        "#S4 Full Connection\r\n",
        "classifier.add(Dense(256, activation = 'relu'))\r\n",
        "classifier.add(Dense(1, activation = 'sigmoid'))"
      ],
      "execution_count": 15,
      "outputs": []
    },
    {
      "cell_type": "code",
      "metadata": {
        "id": "JtdUllq578qd"
      },
      "source": [
        "#S5 Compiling the cnn\r\n",
        "classifier.compile(optimizer = 'adam', loss = 'binary_crossentropy', metrics = ['accuracy'])"
      ],
      "execution_count": 16,
      "outputs": []
    },
    {
      "cell_type": "markdown",
      "metadata": {
        "id": "70BeCe7TRmIv"
      },
      "source": [
        "## **Image Preprocessing (Image Augmentation)**"
      ]
    },
    {
      "cell_type": "code",
      "metadata": {
        "colab": {
          "base_uri": "https://localhost:8080/"
        },
        "id": "JsxRqJwfkrUz",
        "outputId": "30d02af6-94ab-4b41-8754-d78696058a14"
      },
      "source": [
        "train_datagen = ImageDataGenerator(\r\n",
        "        rescale=1./255,\r\n",
        "        shear_range=0.2,\r\n",
        "        rotation_range=40,\r\n",
        "        zoom_range=0.2,\r\n",
        "        horizontal_flip=True)\r\n",
        "\r\n",
        "test_datagen = ImageDataGenerator(rescale=1./255)\r\n",
        "\r\n",
        "validation_datagen = ImageDataGenerator(rescale=1./255)\r\n",
        "\r\n",
        "training_set = train_datagen.flow_from_directory(\r\n",
        "                                                  'New Masks Dataset/Train',\r\n",
        "                                                   target_size=(128, 128),\r\n",
        "                                                   batch_size=32,\r\n",
        "                                                   class_mode='binary')\r\n",
        "\r\n",
        "test_set = test_datagen.flow_from_directory(\r\n",
        "                                            'New Masks Dataset/Test',\r\n",
        "                                             target_size=(128, 128),\r\n",
        "                                             batch_size=32,\r\n",
        "                                             class_mode='binary')\r\n",
        "\r\n",
        "validation_set = validation_datagen.flow_from_directory(\r\n",
        "                                                       'New Masks Dataset/Validation',\r\n",
        "                                                        target_size=(128, 128),\r\n",
        "                                                        batch_size=32,\r\n",
        "                                                        class_mode='binary')"
      ],
      "execution_count": 17,
      "outputs": [
        {
          "output_type": "stream",
          "text": [
            "Found 600 images belonging to 2 classes.\n",
            "Found 100 images belonging to 2 classes.\n",
            "Found 306 images belonging to 2 classes.\n"
          ],
          "name": "stdout"
        }
      ]
    },
    {
      "cell_type": "code",
      "metadata": {
        "id": "wCpXltcLDN7h"
      },
      "source": [
        ""
      ],
      "execution_count": null,
      "outputs": []
    },
    {
      "cell_type": "code",
      "metadata": {
        "id": "YD0MBE0Nk55R"
      },
      "source": [
        ""
      ],
      "execution_count": null,
      "outputs": []
    },
    {
      "cell_type": "markdown",
      "metadata": {
        "id": "bOfsRPWCdhqC"
      },
      "source": [
        "## **Fitting the CNN to the dataset**"
      ]
    },
    {
      "cell_type": "code",
      "metadata": {
        "id": "G3OjV2vSdsUe",
        "colab": {
          "base_uri": "https://localhost:8080/"
        },
        "outputId": "0c5d3001-0731-4663-d768-fec40d4dbd7d"
      },
      "source": [
        "history = classifier.fit(\r\n",
        "                        training_set,\r\n",
        "                        steps_per_epoch=int(300/32),\r\n",
        "                        epochs=50,\r\n",
        "                        validation_data=validation_set,\r\n",
        "                        validation_steps=int(306/32)\r\n",
        "                         )"
      ],
      "execution_count": 18,
      "outputs": [
        {
          "output_type": "stream",
          "text": [
            "Epoch 1/50\n",
            "9/9 [==============================] - 15s 963ms/step - loss: 0.7110 - accuracy: 0.5039 - val_loss: 0.6830 - val_accuracy: 0.6562\n",
            "Epoch 2/50\n",
            "9/9 [==============================] - 8s 887ms/step - loss: 0.7031 - accuracy: 0.5445 - val_loss: 0.6615 - val_accuracy: 0.6632\n",
            "Epoch 3/50\n",
            "9/9 [==============================] - 8s 901ms/step - loss: 0.6406 - accuracy: 0.6469 - val_loss: 0.6158 - val_accuracy: 0.7639\n",
            "Epoch 4/50\n",
            "9/9 [==============================] - 8s 904ms/step - loss: 0.5986 - accuracy: 0.6576 - val_loss: 0.5766 - val_accuracy: 0.6806\n",
            "Epoch 5/50\n",
            "9/9 [==============================] - 7s 876ms/step - loss: 0.5769 - accuracy: 0.6654 - val_loss: 0.5537 - val_accuracy: 0.7326\n",
            "Epoch 6/50\n",
            "9/9 [==============================] - 7s 895ms/step - loss: 0.5572 - accuracy: 0.7046 - val_loss: 0.4486 - val_accuracy: 0.8021\n",
            "Epoch 7/50\n",
            "9/9 [==============================] - 8s 904ms/step - loss: 0.4626 - accuracy: 0.7828 - val_loss: 0.3949 - val_accuracy: 0.8368\n",
            "Epoch 8/50\n",
            "9/9 [==============================] - 7s 892ms/step - loss: 0.4344 - accuracy: 0.8341 - val_loss: 0.3612 - val_accuracy: 0.8576\n",
            "Epoch 9/50\n",
            "9/9 [==============================] - 7s 872ms/step - loss: 0.3736 - accuracy: 0.8721 - val_loss: 0.3525 - val_accuracy: 0.8507\n",
            "Epoch 10/50\n",
            "9/9 [==============================] - 7s 849ms/step - loss: 0.4261 - accuracy: 0.8282 - val_loss: 0.3434 - val_accuracy: 0.8785\n",
            "Epoch 11/50\n",
            "9/9 [==============================] - 8s 906ms/step - loss: 0.3642 - accuracy: 0.8591 - val_loss: 0.3561 - val_accuracy: 0.8646\n",
            "Epoch 12/50\n",
            "9/9 [==============================] - 7s 874ms/step - loss: 0.2767 - accuracy: 0.8896 - val_loss: 0.3469 - val_accuracy: 0.8507\n",
            "Epoch 13/50\n",
            "9/9 [==============================] - 8s 907ms/step - loss: 0.4012 - accuracy: 0.8451 - val_loss: 0.3253 - val_accuracy: 0.8889\n",
            "Epoch 14/50\n",
            "9/9 [==============================] - 8s 901ms/step - loss: 0.3133 - accuracy: 0.8740 - val_loss: 0.2942 - val_accuracy: 0.8924\n",
            "Epoch 15/50\n",
            "9/9 [==============================] - 7s 879ms/step - loss: 0.3579 - accuracy: 0.8431 - val_loss: 0.3275 - val_accuracy: 0.8715\n",
            "Epoch 16/50\n",
            "9/9 [==============================] - 7s 866ms/step - loss: 0.3212 - accuracy: 0.8725 - val_loss: 0.3143 - val_accuracy: 0.8854\n",
            "Epoch 17/50\n",
            "9/9 [==============================] - 7s 879ms/step - loss: 0.3787 - accuracy: 0.8838 - val_loss: 0.3200 - val_accuracy: 0.8750\n",
            "Epoch 18/50\n",
            "9/9 [==============================] - 7s 865ms/step - loss: 0.3412 - accuracy: 0.8824 - val_loss: 0.2962 - val_accuracy: 0.8993\n",
            "Epoch 19/50\n",
            "9/9 [==============================] - 7s 867ms/step - loss: 0.2701 - accuracy: 0.8900 - val_loss: 0.3020 - val_accuracy: 0.8854\n",
            "Epoch 20/50\n",
            "9/9 [==============================] - 7s 900ms/step - loss: 0.3688 - accuracy: 0.8685 - val_loss: 0.3225 - val_accuracy: 0.8750\n",
            "Epoch 21/50\n",
            "9/9 [==============================] - 8s 902ms/step - loss: 0.3994 - accuracy: 0.8280 - val_loss: 0.3473 - val_accuracy: 0.8715\n",
            "Epoch 22/50\n",
            "9/9 [==============================] - 8s 899ms/step - loss: 0.2868 - accuracy: 0.9147 - val_loss: 0.3134 - val_accuracy: 0.8958\n",
            "Epoch 23/50\n",
            "9/9 [==============================] - 8s 934ms/step - loss: 0.3870 - accuracy: 0.8448 - val_loss: 0.3049 - val_accuracy: 0.8854\n",
            "Epoch 24/50\n",
            "9/9 [==============================] - 8s 930ms/step - loss: 0.2533 - accuracy: 0.9117 - val_loss: 0.2671 - val_accuracy: 0.9167\n",
            "Epoch 25/50\n",
            "9/9 [==============================] - 7s 897ms/step - loss: 0.3318 - accuracy: 0.8783 - val_loss: 0.3093 - val_accuracy: 0.8750\n",
            "Epoch 26/50\n",
            "9/9 [==============================] - 8s 947ms/step - loss: 0.4187 - accuracy: 0.8439 - val_loss: 0.3269 - val_accuracy: 0.8785\n",
            "Epoch 27/50\n",
            "9/9 [==============================] - 8s 914ms/step - loss: 0.3375 - accuracy: 0.8681 - val_loss: 0.3151 - val_accuracy: 0.9167\n",
            "Epoch 28/50\n",
            "9/9 [==============================] - 7s 893ms/step - loss: 0.2838 - accuracy: 0.8831 - val_loss: 0.3258 - val_accuracy: 0.8576\n",
            "Epoch 29/50\n",
            "9/9 [==============================] - 7s 894ms/step - loss: 0.2733 - accuracy: 0.8907 - val_loss: 0.2893 - val_accuracy: 0.8993\n",
            "Epoch 30/50\n",
            "9/9 [==============================] - 8s 907ms/step - loss: 0.2625 - accuracy: 0.9029 - val_loss: 0.2775 - val_accuracy: 0.9097\n",
            "Epoch 31/50\n",
            "9/9 [==============================] - 7s 881ms/step - loss: 0.3001 - accuracy: 0.8803 - val_loss: 0.3032 - val_accuracy: 0.8819\n",
            "Epoch 32/50\n",
            "9/9 [==============================] - 8s 916ms/step - loss: 0.3143 - accuracy: 0.8579 - val_loss: 0.2858 - val_accuracy: 0.8889\n",
            "Epoch 33/50\n",
            "9/9 [==============================] - 8s 929ms/step - loss: 0.2968 - accuracy: 0.8835 - val_loss: 0.2756 - val_accuracy: 0.9062\n",
            "Epoch 34/50\n",
            "9/9 [==============================] - 8s 959ms/step - loss: 0.3381 - accuracy: 0.8760 - val_loss: 0.2951 - val_accuracy: 0.8924\n",
            "Epoch 35/50\n",
            "9/9 [==============================] - 8s 935ms/step - loss: 0.3101 - accuracy: 0.8691 - val_loss: 0.2649 - val_accuracy: 0.9236\n",
            "Epoch 36/50\n",
            "9/9 [==============================] - 8s 923ms/step - loss: 0.2570 - accuracy: 0.9046 - val_loss: 0.2600 - val_accuracy: 0.9097\n",
            "Epoch 37/50\n",
            "9/9 [==============================] - 7s 872ms/step - loss: 0.2796 - accuracy: 0.8847 - val_loss: 0.2485 - val_accuracy: 0.9271\n",
            "Epoch 38/50\n",
            "9/9 [==============================] - 7s 879ms/step - loss: 0.2850 - accuracy: 0.9005 - val_loss: 0.2541 - val_accuracy: 0.9167\n",
            "Epoch 39/50\n",
            "9/9 [==============================] - 7s 877ms/step - loss: 0.3392 - accuracy: 0.8521 - val_loss: 0.2767 - val_accuracy: 0.8958\n",
            "Epoch 40/50\n",
            "9/9 [==============================] - 7s 875ms/step - loss: 0.2873 - accuracy: 0.9061 - val_loss: 0.2599 - val_accuracy: 0.9201\n",
            "Epoch 41/50\n",
            "9/9 [==============================] - 8s 908ms/step - loss: 0.2598 - accuracy: 0.8705 - val_loss: 0.2508 - val_accuracy: 0.9132\n",
            "Epoch 42/50\n",
            "9/9 [==============================] - 7s 846ms/step - loss: 0.2373 - accuracy: 0.9084 - val_loss: 0.2578 - val_accuracy: 0.8993\n",
            "Epoch 43/50\n",
            "9/9 [==============================] - 7s 869ms/step - loss: 0.2989 - accuracy: 0.8932 - val_loss: 0.2484 - val_accuracy: 0.9167\n",
            "Epoch 44/50\n",
            "9/9 [==============================] - 8s 908ms/step - loss: 0.2246 - accuracy: 0.9077 - val_loss: 0.2390 - val_accuracy: 0.9132\n",
            "Epoch 45/50\n",
            "9/9 [==============================] - 7s 871ms/step - loss: 0.2412 - accuracy: 0.8992 - val_loss: 0.2417 - val_accuracy: 0.9062\n",
            "Epoch 46/50\n",
            "9/9 [==============================] - 7s 897ms/step - loss: 0.1653 - accuracy: 0.9494 - val_loss: 0.2425 - val_accuracy: 0.9132\n",
            "Epoch 47/50\n",
            "9/9 [==============================] - 8s 913ms/step - loss: 0.2174 - accuracy: 0.9246 - val_loss: 0.2452 - val_accuracy: 0.8958\n",
            "Epoch 48/50\n",
            "9/9 [==============================] - 8s 960ms/step - loss: 0.2025 - accuracy: 0.9140 - val_loss: 0.2152 - val_accuracy: 0.9201\n",
            "Epoch 49/50\n",
            "9/9 [==============================] - 8s 935ms/step - loss: 0.2479 - accuracy: 0.8993 - val_loss: 0.2326 - val_accuracy: 0.9167\n",
            "Epoch 50/50\n",
            "9/9 [==============================] - 8s 890ms/step - loss: 0.2559 - accuracy: 0.8896 - val_loss: 0.2856 - val_accuracy: 0.8819\n"
          ],
          "name": "stdout"
        }
      ]
    },
    {
      "cell_type": "code",
      "metadata": {
        "colab": {
          "base_uri": "https://localhost:8080/"
        },
        "id": "eywoeC7n-Xsu",
        "outputId": "63d23947-0957-467e-acef-035ed89670dc"
      },
      "source": [
        "history.history.keys()"
      ],
      "execution_count": 19,
      "outputs": [
        {
          "output_type": "execute_result",
          "data": {
            "text/plain": [
              "dict_keys(['loss', 'accuracy', 'val_loss', 'val_accuracy'])"
            ]
          },
          "metadata": {
            "tags": []
          },
          "execution_count": 19
        }
      ]
    },
    {
      "cell_type": "code",
      "metadata": {
        "colab": {
          "base_uri": "https://localhost:8080/",
          "height": 312
        },
        "id": "o6red1jSDQ1w",
        "outputId": "9e86ed41-7199-480d-b0cd-320e076b3728"
      },
      "source": [
        "plt.plot(history.history['loss'])\r\n",
        "plt.plot(history.history['val_loss'])\r\n",
        "plt.legend(['training','validation'])\r\n",
        "plt.title('Training and validation loss')\r\n",
        "plt.xlabel('Epoch')"
      ],
      "execution_count": 21,
      "outputs": [
        {
          "output_type": "execute_result",
          "data": {
            "text/plain": [
              "Text(0.5, 0, 'Epoch')"
            ]
          },
          "metadata": {
            "tags": []
          },
          "execution_count": 21
        },
        {
          "output_type": "display_data",
          "data": {
            "image/png": "[encoded data removed]",
            "text/plain": [
              "<Figure size 432x288 with 1 Axes>"
            ]
          },
          "metadata": {
            "tags": [],
            "needs_background": "light"
          }
        }
      ]
    },
    {
      "cell_type": "code",
      "metadata": {
        "colab": {
          "base_uri": "https://localhost:8080/",
          "height": 312
        },
        "id": "YUeoL-TSFkzY",
        "outputId": "6399c30e-f2b7-40fc-f9c1-dfa3ae0a27ea"
      },
      "source": [
        "plt.plot(history.history['accuracy'])\r\n",
        "plt.plot(history.history['val_accuracy'])\r\n",
        "plt.legend(['training','validation'])\r\n",
        "plt.title('Training and validation accuracy')\r\n",
        "plt.xlabel('Epoch')"
      ],
      "execution_count": 22,
      "outputs": [
        {
          "output_type": "execute_result",
          "data": {
            "text/plain": [
              "Text(0.5, 0, 'Epoch')"
            ]
          },
          "metadata": {
            "tags": []
          },
          "execution_count": 22
        },
        {
          "output_type": "display_data",
          "data": {
            "image/png": "[encoded data removed]",
            "text/plain": [
              "<Figure size 432x288 with 1 Axes>"
            ]
          },
          "metadata": {
            "tags": [],
            "needs_background": "light"
          }
        }
      ]
    },
    {
      "cell_type": "code",
      "metadata": {
        "colab": {
          "base_uri": "https://localhost:8080/"
        },
        "id": "Rf2AXMT5Gjl6",
        "outputId": "14fcadf9-c109-4215-9244-c399f22c64c1"
      },
      "source": [
        "test_loss , test_accuracy = classifier.evaluate(test_set)\r\n",
        "print('test loss:{} test accuracy{}'.format(test_loss,test_accuracy))"
      ],
      "execution_count": 23,
      "outputs": [
        {
          "output_type": "stream",
          "text": [
            "4/4 [==============================] - 1s 260ms/step - loss: 0.2045 - accuracy: 0.9300\n",
            "test loss:0.20449112355709076 test accuracy0.9300000071525574\n"
          ],
          "name": "stdout"
        }
      ]
    }
  ]
}